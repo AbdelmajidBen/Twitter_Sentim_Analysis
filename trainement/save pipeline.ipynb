{
 "cells": [
  {
   "cell_type": "code",
   "execution_count": 1,
   "id": "2d171ca7-ad7e-4d99-ad1b-0588cf6c2f08",
   "metadata": {
    "ExecuteTime": {
     "end_time": "2024-05-02T21:06:14.590848Z",
     "start_time": "2024-05-02T21:06:14.293654Z"
    }
   },
   "outputs": [],
   "source": [
    "from pyspark.sql import SparkSession\n",
    "from pyspark.sql.functions import col"
   ]
  },
  {
   "cell_type": "code",
   "execution_count": 2,
   "id": "34fe9b3b-a50a-4c4f-b201-983727d5b59a",
   "metadata": {
    "ExecuteTime": {
     "end_time": "2024-05-02T21:06:19.288239Z",
     "start_time": "2024-05-02T21:06:15.268309Z"
    }
   },
   "outputs": [
    {
     "name": "stderr",
     "output_type": "stream",
     "text": [
      "Setting default log level to \"WARN\".\n",
      "To adjust logging level use sc.setLogLevel(newLevel). For SparkR, use setLogLevel(newLevel).\n",
      "24/05/11 12:20:50 WARN NativeCodeLoader: Unable to load native-hadoop library for your platform... using builtin-java classes where applicable\n"
     ]
    }
   ],
   "source": [
    "# Create a SparkSession\n",
    "spark = SparkSession.builder \\\n",
    "    .appName(\"pipeline_twitter4\") \\\n",
    "    .getOrCreate()"
   ]
  },
  {
   "cell_type": "code",
   "execution_count": 3,
   "id": "92dd903e-d3ae-4b73-90d1-a649359f267d",
   "metadata": {
    "ExecuteTime": {
     "end_time": "2024-05-02T21:06:26.111407Z",
     "start_time": "2024-05-02T21:06:19.845401Z"
    }
   },
   "outputs": [
    {
     "name": "stderr",
     "output_type": "stream",
     "text": [
      "                                                                                \r"
     ]
    }
   ],
   "source": [
    "df_twitter = spark.read.csv(\"../twitter_training.csv\", header=False, inferSchema=True)"
   ]
  },
  {
   "cell_type": "code",
   "execution_count": 4,
   "id": "60e618de-29ba-4b3f-be20-d836cc6033a6",
   "metadata": {
    "ExecuteTime": {
     "end_time": "2024-05-02T21:06:27.407600Z",
     "start_time": "2024-05-02T21:06:27.382036Z"
    }
   },
   "outputs": [],
   "source": [
    "# Provide column names manually (replace with actual column names)\n",
    "columns = [\"Tweet ID\", \"Entity\", \"Sentiment\", \"TweetContent\"]\n",
    "df_twitter = df_twitter.toDF(*columns)"
   ]
  },
  {
   "cell_type": "code",
   "execution_count": 5,
   "id": "4ab8edd0-06ab-4dd9-b8d9-1413494f0269",
   "metadata": {
    "ExecuteTime": {
     "end_time": "2024-05-02T21:06:32.091152Z",
     "start_time": "2024-05-02T21:06:32.061588Z"
    }
   },
   "outputs": [],
   "source": [
    "df_twitter = df_twitter.drop(\"Tweet ID\")\n",
    "df_twitter = df_twitter.drop(\"Entity\")"
   ]
  },
  {
   "cell_type": "code",
   "execution_count": 6,
   "id": "4a754f8c-3f4d-49b4-90d3-59c3a1705527",
   "metadata": {
    "ExecuteTime": {
     "end_time": "2024-05-02T21:06:42.141131Z",
     "start_time": "2024-05-02T21:06:40.159682Z"
    }
   },
   "outputs": [
    {
     "name": "stderr",
     "output_type": "stream",
     "text": [
      "                                                                                \r"
     ]
    },
    {
     "data": {
      "text/html": [
       "<div>\n",
       "<style scoped>\n",
       "    .dataframe tbody tr th:only-of-type {\n",
       "        vertical-align: middle;\n",
       "    }\n",
       "\n",
       "    .dataframe tbody tr th {\n",
       "        vertical-align: top;\n",
       "    }\n",
       "\n",
       "    .dataframe thead th {\n",
       "        text-align: right;\n",
       "    }\n",
       "</style>\n",
       "<table border=\"1\" class=\"dataframe\">\n",
       "  <thead>\n",
       "    <tr style=\"text-align: right;\">\n",
       "      <th></th>\n",
       "      <th>Sentiment</th>\n",
       "      <th>TweetContent</th>\n",
       "    </tr>\n",
       "  </thead>\n",
       "  <tbody>\n",
       "    <tr>\n",
       "      <th>0</th>\n",
       "      <td>Positive</td>\n",
       "      <td>im getting on borderlands and i will murder yo...</td>\n",
       "    </tr>\n",
       "    <tr>\n",
       "      <th>1</th>\n",
       "      <td>Positive</td>\n",
       "      <td>I am coming to the borders and I will kill you...</td>\n",
       "    </tr>\n",
       "    <tr>\n",
       "      <th>2</th>\n",
       "      <td>Positive</td>\n",
       "      <td>im getting on borderlands and i will kill you ...</td>\n",
       "    </tr>\n",
       "    <tr>\n",
       "      <th>3</th>\n",
       "      <td>Positive</td>\n",
       "      <td>im coming on borderlands and i will murder you...</td>\n",
       "    </tr>\n",
       "    <tr>\n",
       "      <th>4</th>\n",
       "      <td>Positive</td>\n",
       "      <td>im getting on borderlands 2 and i will murder ...</td>\n",
       "    </tr>\n",
       "    <tr>\n",
       "      <th>...</th>\n",
       "      <td>...</td>\n",
       "      <td>...</td>\n",
       "    </tr>\n",
       "    <tr>\n",
       "      <th>73991</th>\n",
       "      <td>Positive</td>\n",
       "      <td>Just realized that the Windows partition of my...</td>\n",
       "    </tr>\n",
       "    <tr>\n",
       "      <th>73992</th>\n",
       "      <td>Positive</td>\n",
       "      <td>Just realized that my Mac window partition is ...</td>\n",
       "    </tr>\n",
       "    <tr>\n",
       "      <th>73993</th>\n",
       "      <td>Positive</td>\n",
       "      <td>Just realized the windows partition of my Mac ...</td>\n",
       "    </tr>\n",
       "    <tr>\n",
       "      <th>73994</th>\n",
       "      <td>Positive</td>\n",
       "      <td>Just realized between the windows partition of...</td>\n",
       "    </tr>\n",
       "    <tr>\n",
       "      <th>73995</th>\n",
       "      <td>Positive</td>\n",
       "      <td>Just like the windows partition of my Mac is l...</td>\n",
       "    </tr>\n",
       "  </tbody>\n",
       "</table>\n",
       "<p>73996 rows × 2 columns</p>\n",
       "</div>"
      ],
      "text/plain": [
       "      Sentiment                                       TweetContent\n",
       "0      Positive  im getting on borderlands and i will murder yo...\n",
       "1      Positive  I am coming to the borders and I will kill you...\n",
       "2      Positive  im getting on borderlands and i will kill you ...\n",
       "3      Positive  im coming on borderlands and i will murder you...\n",
       "4      Positive  im getting on borderlands 2 and i will murder ...\n",
       "...         ...                                                ...\n",
       "73991  Positive  Just realized that the Windows partition of my...\n",
       "73992  Positive  Just realized that my Mac window partition is ...\n",
       "73993  Positive  Just realized the windows partition of my Mac ...\n",
       "73994  Positive  Just realized between the windows partition of...\n",
       "73995  Positive  Just like the windows partition of my Mac is l...\n",
       "\n",
       "[73996 rows x 2 columns]"
      ]
     },
     "execution_count": 6,
     "metadata": {},
     "output_type": "execute_result"
    }
   ],
   "source": [
    "df_twitter = df_twitter.dropna(subset=[\"TweetContent\"])\n",
    "df_twitter.toPandas()"
   ]
  },
  {
   "cell_type": "code",
   "execution_count": 7,
   "id": "c042c343-8a9e-4b0b-8340-60edc41ae5de",
   "metadata": {
    "ExecuteTime": {
     "end_time": "2024-05-02T21:09:13.289718Z",
     "start_time": "2024-05-02T21:09:13.189643Z"
    }
   },
   "outputs": [],
   "source": [
    "# Import required modules\n",
    "from pyspark.sql.functions import udf\n",
    "from pyspark.sql.types import StringType\n",
    "import re\n",
    "\n",
    "# Define the clean_and_lowercase function\n",
    "def clean_and_lowercase(text):\n",
    "    # Convert the text to lowercase\n",
    "    text_lower = text.lower()\n",
    "    # Remove special characters, punctuation, and unnecessary symbols\n",
    "    cleaned_text = re.sub(r'[^a-zA-Z\\s]', '', text_lower)\n",
    "    # Return the cleaned text\n",
    "    return cleaned_text\n",
    "\n",
    "# Define the UDF\n",
    "clean_and_lowercase_udf = udf(clean_and_lowercase, StringType())\n",
    "\n",
    "# Apply the UDF to the 'Tweet content' column\n",
    "df_twitter = df_twitter.withColumn(\"cleaned_tweet\", clean_and_lowercase_udf(\"TweetContent\"))\n",
    "\n",
    "# Filter out rows where the cleaned tweet is empty\n",
    "df_twitter = df_twitter.filter(df_twitter.cleaned_tweet != \" \")"
   ]
  },
  {
   "cell_type": "code",
   "execution_count": 8,
   "id": "7a02979b-5994-4724-9a79-9e8e56ff9a9d",
   "metadata": {
    "ExecuteTime": {
     "end_time": "2024-05-02T21:09:13.968436Z",
     "start_time": "2024-05-02T21:09:13.962526Z"
    }
   },
   "outputs": [
    {
     "name": "stderr",
     "output_type": "stream",
     "text": [
      "                                                                                \r"
     ]
    },
    {
     "data": {
      "text/html": [
       "<div>\n",
       "<style scoped>\n",
       "    .dataframe tbody tr th:only-of-type {\n",
       "        vertical-align: middle;\n",
       "    }\n",
       "\n",
       "    .dataframe tbody tr th {\n",
       "        vertical-align: top;\n",
       "    }\n",
       "\n",
       "    .dataframe thead th {\n",
       "        text-align: right;\n",
       "    }\n",
       "</style>\n",
       "<table border=\"1\" class=\"dataframe\">\n",
       "  <thead>\n",
       "    <tr style=\"text-align: right;\">\n",
       "      <th></th>\n",
       "      <th>Sentiment</th>\n",
       "      <th>TweetContent</th>\n",
       "      <th>cleaned_tweet</th>\n",
       "    </tr>\n",
       "  </thead>\n",
       "  <tbody>\n",
       "    <tr>\n",
       "      <th>0</th>\n",
       "      <td>Positive</td>\n",
       "      <td>im getting on borderlands and i will murder yo...</td>\n",
       "      <td>im getting on borderlands and i will murder yo...</td>\n",
       "    </tr>\n",
       "    <tr>\n",
       "      <th>1</th>\n",
       "      <td>Positive</td>\n",
       "      <td>I am coming to the borders and I will kill you...</td>\n",
       "      <td>i am coming to the borders and i will kill you...</td>\n",
       "    </tr>\n",
       "    <tr>\n",
       "      <th>2</th>\n",
       "      <td>Positive</td>\n",
       "      <td>im getting on borderlands and i will kill you ...</td>\n",
       "      <td>im getting on borderlands and i will kill you all</td>\n",
       "    </tr>\n",
       "    <tr>\n",
       "      <th>3</th>\n",
       "      <td>Positive</td>\n",
       "      <td>im coming on borderlands and i will murder you...</td>\n",
       "      <td>im coming on borderlands and i will murder you...</td>\n",
       "    </tr>\n",
       "    <tr>\n",
       "      <th>4</th>\n",
       "      <td>Positive</td>\n",
       "      <td>im getting on borderlands 2 and i will murder ...</td>\n",
       "      <td>im getting on borderlands  and i will murder y...</td>\n",
       "    </tr>\n",
       "    <tr>\n",
       "      <th>...</th>\n",
       "      <td>...</td>\n",
       "      <td>...</td>\n",
       "      <td>...</td>\n",
       "    </tr>\n",
       "    <tr>\n",
       "      <th>73798</th>\n",
       "      <td>Positive</td>\n",
       "      <td>Just realized that the Windows partition of my...</td>\n",
       "      <td>just realized that the windows partition of my...</td>\n",
       "    </tr>\n",
       "    <tr>\n",
       "      <th>73799</th>\n",
       "      <td>Positive</td>\n",
       "      <td>Just realized that my Mac window partition is ...</td>\n",
       "      <td>just realized that my mac window partition is ...</td>\n",
       "    </tr>\n",
       "    <tr>\n",
       "      <th>73800</th>\n",
       "      <td>Positive</td>\n",
       "      <td>Just realized the windows partition of my Mac ...</td>\n",
       "      <td>just realized the windows partition of my mac ...</td>\n",
       "    </tr>\n",
       "    <tr>\n",
       "      <th>73801</th>\n",
       "      <td>Positive</td>\n",
       "      <td>Just realized between the windows partition of...</td>\n",
       "      <td>just realized between the windows partition of...</td>\n",
       "    </tr>\n",
       "    <tr>\n",
       "      <th>73802</th>\n",
       "      <td>Positive</td>\n",
       "      <td>Just like the windows partition of my Mac is l...</td>\n",
       "      <td>just like the windows partition of my mac is l...</td>\n",
       "    </tr>\n",
       "  </tbody>\n",
       "</table>\n",
       "<p>73803 rows × 3 columns</p>\n",
       "</div>"
      ],
      "text/plain": [
       "      Sentiment                                       TweetContent  \\\n",
       "0      Positive  im getting on borderlands and i will murder yo...   \n",
       "1      Positive  I am coming to the borders and I will kill you...   \n",
       "2      Positive  im getting on borderlands and i will kill you ...   \n",
       "3      Positive  im coming on borderlands and i will murder you...   \n",
       "4      Positive  im getting on borderlands 2 and i will murder ...   \n",
       "...         ...                                                ...   \n",
       "73798  Positive  Just realized that the Windows partition of my...   \n",
       "73799  Positive  Just realized that my Mac window partition is ...   \n",
       "73800  Positive  Just realized the windows partition of my Mac ...   \n",
       "73801  Positive  Just realized between the windows partition of...   \n",
       "73802  Positive  Just like the windows partition of my Mac is l...   \n",
       "\n",
       "                                           cleaned_tweet  \n",
       "0      im getting on borderlands and i will murder yo...  \n",
       "1      i am coming to the borders and i will kill you...  \n",
       "2      im getting on borderlands and i will kill you all  \n",
       "3      im coming on borderlands and i will murder you...  \n",
       "4      im getting on borderlands  and i will murder y...  \n",
       "...                                                  ...  \n",
       "73798  just realized that the windows partition of my...  \n",
       "73799  just realized that my mac window partition is ...  \n",
       "73800  just realized the windows partition of my mac ...  \n",
       "73801  just realized between the windows partition of...  \n",
       "73802  just like the windows partition of my mac is l...  \n",
       "\n",
       "[73803 rows x 3 columns]"
      ]
     },
     "execution_count": 8,
     "metadata": {},
     "output_type": "execute_result"
    }
   ],
   "source": [
    "df_twitter.toPandas()"
   ]
  },
  {
   "cell_type": "code",
   "execution_count": 9,
   "id": "54872b2f-d031-475f-bbb7-916c5cf90a9a",
   "metadata": {
    "ExecuteTime": {
     "end_time": "2024-05-02T21:09:15.565738Z",
     "start_time": "2024-05-02T21:09:15.231911Z"
    }
   },
   "outputs": [],
   "source": [
    "# Création des étapes de prétraitement\n",
    "from pyspark.ml import Pipeline\n",
    "from pyspark.ml.feature import Tokenizer, StopWordsRemover, CountVectorizer, IDF, StringIndexer\n",
    "from pyspark.ml.classification import LinearSVC, OneVsRest\n",
    "from pyspark.ml.evaluation import MulticlassClassificationEvaluator\n",
    "indexer = StringIndexer(inputCol=\"Sentiment\", outputCol=\"label\")\n",
    "tokenizer = Tokenizer(inputCol=\"cleaned_tweet\", outputCol=\"tokens\")\n",
    "stop_words_remover = StopWordsRemover(inputCol=\"tokens\", outputCol=\"filtered_tweet\")\n",
    "cv = CountVectorizer(inputCol=\"filtered_tweet\", outputCol=\"raw_features\")\n",
    "idf = IDF(inputCol=\"raw_features\", outputCol=\"features\")"
   ]
  },
  {
   "cell_type": "code",
   "execution_count": 10,
   "id": "e38bfc38-209a-45a2-a97c-885b0c10a38f",
   "metadata": {},
   "outputs": [
    {
     "name": "stderr",
     "output_type": "stream",
     "text": [
      "                                                                                \r"
     ]
    },
    {
     "data": {
      "text/html": [
       "<div>\n",
       "<style scoped>\n",
       "    .dataframe tbody tr th:only-of-type {\n",
       "        vertical-align: middle;\n",
       "    }\n",
       "\n",
       "    .dataframe tbody tr th {\n",
       "        vertical-align: top;\n",
       "    }\n",
       "\n",
       "    .dataframe thead th {\n",
       "        text-align: right;\n",
       "    }\n",
       "</style>\n",
       "<table border=\"1\" class=\"dataframe\">\n",
       "  <thead>\n",
       "    <tr style=\"text-align: right;\">\n",
       "      <th></th>\n",
       "      <th>Sentiment</th>\n",
       "      <th>TweetContent</th>\n",
       "      <th>cleaned_tweet</th>\n",
       "      <th>label</th>\n",
       "    </tr>\n",
       "  </thead>\n",
       "  <tbody>\n",
       "    <tr>\n",
       "      <th>0</th>\n",
       "      <td>Positive</td>\n",
       "      <td>im getting on borderlands and i will murder yo...</td>\n",
       "      <td>im getting on borderlands and i will murder yo...</td>\n",
       "      <td>1.0</td>\n",
       "    </tr>\n",
       "    <tr>\n",
       "      <th>1</th>\n",
       "      <td>Positive</td>\n",
       "      <td>I am coming to the borders and I will kill you...</td>\n",
       "      <td>i am coming to the borders and i will kill you...</td>\n",
       "      <td>1.0</td>\n",
       "    </tr>\n",
       "    <tr>\n",
       "      <th>2</th>\n",
       "      <td>Positive</td>\n",
       "      <td>im getting on borderlands and i will kill you ...</td>\n",
       "      <td>im getting on borderlands and i will kill you all</td>\n",
       "      <td>1.0</td>\n",
       "    </tr>\n",
       "    <tr>\n",
       "      <th>3</th>\n",
       "      <td>Positive</td>\n",
       "      <td>im coming on borderlands and i will murder you...</td>\n",
       "      <td>im coming on borderlands and i will murder you...</td>\n",
       "      <td>1.0</td>\n",
       "    </tr>\n",
       "    <tr>\n",
       "      <th>4</th>\n",
       "      <td>Positive</td>\n",
       "      <td>im getting on borderlands 2 and i will murder ...</td>\n",
       "      <td>im getting on borderlands  and i will murder y...</td>\n",
       "      <td>1.0</td>\n",
       "    </tr>\n",
       "    <tr>\n",
       "      <th>...</th>\n",
       "      <td>...</td>\n",
       "      <td>...</td>\n",
       "      <td>...</td>\n",
       "      <td>...</td>\n",
       "    </tr>\n",
       "    <tr>\n",
       "      <th>73798</th>\n",
       "      <td>Positive</td>\n",
       "      <td>Just realized that the Windows partition of my...</td>\n",
       "      <td>just realized that the windows partition of my...</td>\n",
       "      <td>1.0</td>\n",
       "    </tr>\n",
       "    <tr>\n",
       "      <th>73799</th>\n",
       "      <td>Positive</td>\n",
       "      <td>Just realized that my Mac window partition is ...</td>\n",
       "      <td>just realized that my mac window partition is ...</td>\n",
       "      <td>1.0</td>\n",
       "    </tr>\n",
       "    <tr>\n",
       "      <th>73800</th>\n",
       "      <td>Positive</td>\n",
       "      <td>Just realized the windows partition of my Mac ...</td>\n",
       "      <td>just realized the windows partition of my mac ...</td>\n",
       "      <td>1.0</td>\n",
       "    </tr>\n",
       "    <tr>\n",
       "      <th>73801</th>\n",
       "      <td>Positive</td>\n",
       "      <td>Just realized between the windows partition of...</td>\n",
       "      <td>just realized between the windows partition of...</td>\n",
       "      <td>1.0</td>\n",
       "    </tr>\n",
       "    <tr>\n",
       "      <th>73802</th>\n",
       "      <td>Positive</td>\n",
       "      <td>Just like the windows partition of my Mac is l...</td>\n",
       "      <td>just like the windows partition of my mac is l...</td>\n",
       "      <td>1.0</td>\n",
       "    </tr>\n",
       "  </tbody>\n",
       "</table>\n",
       "<p>73803 rows × 4 columns</p>\n",
       "</div>"
      ],
      "text/plain": [
       "      Sentiment                                       TweetContent  \\\n",
       "0      Positive  im getting on borderlands and i will murder yo...   \n",
       "1      Positive  I am coming to the borders and I will kill you...   \n",
       "2      Positive  im getting on borderlands and i will kill you ...   \n",
       "3      Positive  im coming on borderlands and i will murder you...   \n",
       "4      Positive  im getting on borderlands 2 and i will murder ...   \n",
       "...         ...                                                ...   \n",
       "73798  Positive  Just realized that the Windows partition of my...   \n",
       "73799  Positive  Just realized that my Mac window partition is ...   \n",
       "73800  Positive  Just realized the windows partition of my Mac ...   \n",
       "73801  Positive  Just realized between the windows partition of...   \n",
       "73802  Positive  Just like the windows partition of my Mac is l...   \n",
       "\n",
       "                                           cleaned_tweet  label  \n",
       "0      im getting on borderlands and i will murder yo...    1.0  \n",
       "1      i am coming to the borders and i will kill you...    1.0  \n",
       "2      im getting on borderlands and i will kill you all    1.0  \n",
       "3      im coming on borderlands and i will murder you...    1.0  \n",
       "4      im getting on borderlands  and i will murder y...    1.0  \n",
       "...                                                  ...    ...  \n",
       "73798  just realized that the windows partition of my...    1.0  \n",
       "73799  just realized that my mac window partition is ...    1.0  \n",
       "73800  just realized the windows partition of my mac ...    1.0  \n",
       "73801  just realized between the windows partition of...    1.0  \n",
       "73802  just like the windows partition of my mac is l...    1.0  \n",
       "\n",
       "[73803 rows x 4 columns]"
      ]
     },
     "execution_count": 10,
     "metadata": {},
     "output_type": "execute_result"
    }
   ],
   "source": [
    "from pyspark.ml import Pipeline\n",
    "# Add indexer, lemmatization, and the rest of the pipeline stages\n",
    "df_twitter = indexer.fit(df_twitter).transform(df_twitter)\n",
    "df_twitter.toPandas()"
   ]
  },
  {
   "cell_type": "code",
   "execution_count": 11,
   "id": "b1b1417d-b23e-4df6-84a0-33a28afbfd51",
   "metadata": {},
   "outputs": [],
   "source": [
    "# Split the data into train and test sets\n",
    "train_data, test_data = df_twitter.randomSplit([0.8, 0.2], seed=42)"
   ]
  },
  {
   "cell_type": "code",
   "execution_count": 12,
   "id": "90d655a5-0974-43f4-b047-138fdd74ab04",
   "metadata": {},
   "outputs": [
    {
     "name": "stderr",
     "output_type": "stream",
     "text": [
      "                                                                                \r"
     ]
    },
    {
     "data": {
      "text/html": [
       "<div>\n",
       "<style scoped>\n",
       "    .dataframe tbody tr th:only-of-type {\n",
       "        vertical-align: middle;\n",
       "    }\n",
       "\n",
       "    .dataframe tbody tr th {\n",
       "        vertical-align: top;\n",
       "    }\n",
       "\n",
       "    .dataframe thead th {\n",
       "        text-align: right;\n",
       "    }\n",
       "</style>\n",
       "<table border=\"1\" class=\"dataframe\">\n",
       "  <thead>\n",
       "    <tr style=\"text-align: right;\">\n",
       "      <th></th>\n",
       "      <th>Sentiment</th>\n",
       "      <th>TweetContent</th>\n",
       "      <th>cleaned_tweet</th>\n",
       "      <th>label</th>\n",
       "    </tr>\n",
       "  </thead>\n",
       "  <tbody>\n",
       "    <tr>\n",
       "      <th>0</th>\n",
       "      <td>Irrelevant</td>\n",
       "      <td>. .  . .  . . Go MSC</td>\n",
       "      <td>go msc</td>\n",
       "      <td>3.0</td>\n",
       "    </tr>\n",
       "    <tr>\n",
       "      <th>1</th>\n",
       "      <td>Irrelevant</td>\n",
       "      <td>. .  Amazing</td>\n",
       "      <td>amazing</td>\n",
       "      <td>3.0</td>\n",
       "    </tr>\n",
       "    <tr>\n",
       "      <th>2</th>\n",
       "      <td>Irrelevant</td>\n",
       "      <td>. I need this in my life so badly</td>\n",
       "      <td>i need this in my life so badly</td>\n",
       "      <td>3.0</td>\n",
       "    </tr>\n",
       "    <tr>\n",
       "      <th>3</th>\n",
       "      <td>Irrelevant</td>\n",
       "      <td>. The special thanks go to . @HansrajMeena.  ...</td>\n",
       "      <td>the special thanks go to  hansrajmeena  for ...</td>\n",
       "      <td>3.0</td>\n",
       "    </tr>\n",
       "    <tr>\n",
       "      <th>4</th>\n",
       "      <td>Irrelevant</td>\n",
       "      <td>. Why people say this challenge so hard.. Did...</td>\n",
       "      <td>why people say this challenge so hard did it...</td>\n",
       "      <td>3.0</td>\n",
       "    </tr>\n",
       "    <tr>\n",
       "      <th>...</th>\n",
       "      <td>...</td>\n",
       "      <td>...</td>\n",
       "      <td>...</td>\n",
       "      <td>...</td>\n",
       "    </tr>\n",
       "    <tr>\n",
       "      <th>59206</th>\n",
       "      <td>Positive</td>\n",
       "      <td>• Me who didnt bought Death Stranding Rhandler...</td>\n",
       "      <td>me who didnt bought death stranding rhandlerr...</td>\n",
       "      <td>1.0</td>\n",
       "    </tr>\n",
       "    <tr>\n",
       "      <th>59207</th>\n",
       "      <td>Positive</td>\n",
       "      <td>″ Wow</td>\n",
       "      <td>wow</td>\n",
       "      <td>1.0</td>\n",
       "    </tr>\n",
       "    <tr>\n",
       "      <th>59208</th>\n",
       "      <td>Positive</td>\n",
       "      <td>🤯Night City wire was absolutely breath taking....</td>\n",
       "      <td>night city wire was absolutely breath taking  ...</td>\n",
       "      <td>1.0</td>\n",
       "    </tr>\n",
       "    <tr>\n",
       "      <th>59209</th>\n",
       "      <td>Positive</td>\n",
       "      <td>🤯Night in wire was absolutely breath taking.. ...</td>\n",
       "      <td>night in wire was absolutely breath taking  hy...</td>\n",
       "      <td>1.0</td>\n",
       "    </tr>\n",
       "    <tr>\n",
       "      <th>59210</th>\n",
       "      <td>Positive</td>\n",
       "      <td>🥺.  I really can’t wait</td>\n",
       "      <td>i really cant wait</td>\n",
       "      <td>1.0</td>\n",
       "    </tr>\n",
       "  </tbody>\n",
       "</table>\n",
       "<p>59211 rows × 4 columns</p>\n",
       "</div>"
      ],
      "text/plain": [
       "        Sentiment                                       TweetContent  \\\n",
       "0      Irrelevant                             . .  . .  . . Go MSC     \n",
       "1      Irrelevant                                       . .  Amazing   \n",
       "2      Irrelevant                  . I need this in my life so badly   \n",
       "3      Irrelevant   . The special thanks go to . @HansrajMeena.  ...   \n",
       "4      Irrelevant   . Why people say this challenge so hard.. Did...   \n",
       "...           ...                                                ...   \n",
       "59206    Positive  • Me who didnt bought Death Stranding Rhandler...   \n",
       "59207    Positive                                              ″ Wow   \n",
       "59208    Positive  🤯Night City wire was absolutely breath taking....   \n",
       "59209    Positive  🤯Night in wire was absolutely breath taking.. ...   \n",
       "59210    Positive                            🥺.  I really can’t wait   \n",
       "\n",
       "                                           cleaned_tweet  label  \n",
       "0                                               go msc      3.0  \n",
       "1                                                amazing    3.0  \n",
       "2                        i need this in my life so badly    3.0  \n",
       "3        the special thanks go to  hansrajmeena  for ...    3.0  \n",
       "4        why people say this challenge so hard did it...    3.0  \n",
       "...                                                  ...    ...  \n",
       "59206   me who didnt bought death stranding rhandlerr...    1.0  \n",
       "59207                                                wow    1.0  \n",
       "59208  night city wire was absolutely breath taking  ...    1.0  \n",
       "59209  night in wire was absolutely breath taking  hy...    1.0  \n",
       "59210                                 i really cant wait    1.0  \n",
       "\n",
       "[59211 rows x 4 columns]"
      ]
     },
     "execution_count": 12,
     "metadata": {},
     "output_type": "execute_result"
    }
   ],
   "source": [
    "train_data.toPandas()"
   ]
  },
  {
   "cell_type": "code",
   "execution_count": 14,
   "id": "93489377-20b2-45fc-80b5-646ac95fad28",
   "metadata": {},
   "outputs": [
    {
     "name": "stderr",
     "output_type": "stream",
     "text": [
      "24/05/11 12:24:42 WARN DAGScheduler: Broadcasting large task binary with size 1063.7 KiB\n",
      "24/05/11 12:24:43 WARN DAGScheduler: Broadcasting large task binary with size 1098.1 KiB\n",
      "24/05/11 12:24:43 WARN DAGScheduler: Broadcasting large task binary with size 1098.8 KiB\n",
      "24/05/11 12:24:43 WARN DAGScheduler: Broadcasting large task binary with size 1098.8 KiB\n",
      "24/05/11 12:24:43 WARN DAGScheduler: Broadcasting large task binary with size 1098.8 KiB\n",
      "24/05/11 12:24:43 WARN DAGScheduler: Broadcasting large task binary with size 1098.8 KiB\n",
      "24/05/11 12:24:43 WARN DAGScheduler: Broadcasting large task binary with size 1098.8 KiB\n",
      "24/05/11 12:24:44 WARN DAGScheduler: Broadcasting large task binary with size 1098.8 KiB\n",
      "24/05/11 12:24:44 WARN DAGScheduler: Broadcasting large task binary with size 1098.8 KiB\n",
      "24/05/11 12:24:44 WARN DAGScheduler: Broadcasting large task binary with size 1098.8 KiB\n",
      "24/05/11 12:24:44 WARN DAGScheduler: Broadcasting large task binary with size 1098.8 KiB\n",
      "24/05/11 12:24:44 WARN DAGScheduler: Broadcasting large task binary with size 1098.8 KiB\n",
      "24/05/11 12:24:45 WARN DAGScheduler: Broadcasting large task binary with size 1098.8 KiB\n",
      "24/05/11 12:24:45 WARN DAGScheduler: Broadcasting large task binary with size 1098.8 KiB\n",
      "24/05/11 12:24:45 WARN DAGScheduler: Broadcasting large task binary with size 1098.8 KiB\n",
      "24/05/11 12:24:45 WARN DAGScheduler: Broadcasting large task binary with size 1098.8 KiB\n",
      "24/05/11 12:24:45 WARN DAGScheduler: Broadcasting large task binary with size 1098.8 KiB\n",
      "24/05/11 12:24:46 WARN DAGScheduler: Broadcasting large task binary with size 1098.8 KiB\n",
      "24/05/11 12:24:46 WARN DAGScheduler: Broadcasting large task binary with size 1098.8 KiB\n",
      "24/05/11 12:24:46 WARN DAGScheduler: Broadcasting large task binary with size 1098.8 KiB\n",
      "24/05/11 12:24:46 WARN DAGScheduler: Broadcasting large task binary with size 1098.8 KiB\n",
      "24/05/11 12:24:47 WARN DAGScheduler: Broadcasting large task binary with size 1098.8 KiB\n",
      "24/05/11 12:24:47 WARN DAGScheduler: Broadcasting large task binary with size 1098.8 KiB\n",
      "24/05/11 12:24:47 WARN DAGScheduler: Broadcasting large task binary with size 1098.8 KiB\n",
      "24/05/11 12:24:47 WARN DAGScheduler: Broadcasting large task binary with size 1098.8 KiB\n",
      "24/05/11 12:24:48 WARN DAGScheduler: Broadcasting large task binary with size 1098.1 KiB\n",
      "24/05/11 12:24:48 WARN DAGScheduler: Broadcasting large task binary with size 1098.8 KiB\n",
      "24/05/11 12:24:48 WARN DAGScheduler: Broadcasting large task binary with size 1098.8 KiB\n",
      "24/05/11 12:24:48 WARN DAGScheduler: Broadcasting large task binary with size 1098.8 KiB\n",
      "24/05/11 12:24:48 WARN DAGScheduler: Broadcasting large task binary with size 1098.8 KiB\n",
      "24/05/11 12:24:49 WARN DAGScheduler: Broadcasting large task binary with size 1098.8 KiB\n",
      "24/05/11 12:24:49 WARN DAGScheduler: Broadcasting large task binary with size 1098.8 KiB\n",
      "24/05/11 12:24:49 WARN DAGScheduler: Broadcasting large task binary with size 1098.8 KiB\n",
      "24/05/11 12:24:49 WARN DAGScheduler: Broadcasting large task binary with size 1098.8 KiB\n",
      "24/05/11 12:24:49 WARN DAGScheduler: Broadcasting large task binary with size 1098.8 KiB\n",
      "24/05/11 12:24:50 WARN DAGScheduler: Broadcasting large task binary with size 1098.8 KiB\n",
      "24/05/11 12:24:50 WARN DAGScheduler: Broadcasting large task binary with size 1098.8 KiB\n",
      "24/05/11 12:24:50 WARN DAGScheduler: Broadcasting large task binary with size 1098.8 KiB\n",
      "24/05/11 12:24:50 WARN DAGScheduler: Broadcasting large task binary with size 1098.8 KiB\n",
      "24/05/11 12:24:50 WARN DAGScheduler: Broadcasting large task binary with size 1098.8 KiB\n",
      "24/05/11 12:24:50 WARN DAGScheduler: Broadcasting large task binary with size 1098.8 KiB\n",
      "24/05/11 12:24:51 WARN DAGScheduler: Broadcasting large task binary with size 1098.8 KiB\n",
      "24/05/11 12:24:51 WARN DAGScheduler: Broadcasting large task binary with size 1098.8 KiB\n",
      "24/05/11 12:24:51 WARN DAGScheduler: Broadcasting large task binary with size 1098.8 KiB\n",
      "24/05/11 12:24:51 WARN DAGScheduler: Broadcasting large task binary with size 1098.8 KiB\n",
      "24/05/11 12:24:51 WARN DAGScheduler: Broadcasting large task binary with size 1098.8 KiB\n",
      "24/05/11 12:24:51 WARN DAGScheduler: Broadcasting large task binary with size 1098.8 KiB\n",
      "24/05/11 12:24:51 WARN DAGScheduler: Broadcasting large task binary with size 1098.8 KiB\n",
      "24/05/11 12:24:52 WARN DAGScheduler: Broadcasting large task binary with size 1098.8 KiB\n",
      "24/05/11 12:24:52 WARN DAGScheduler: Broadcasting large task binary with size 1098.1 KiB\n",
      "24/05/11 12:24:52 WARN DAGScheduler: Broadcasting large task binary with size 1098.8 KiB\n",
      "24/05/11 12:24:52 WARN DAGScheduler: Broadcasting large task binary with size 1098.8 KiB\n",
      "24/05/11 12:24:52 WARN DAGScheduler: Broadcasting large task binary with size 1098.8 KiB\n",
      "24/05/11 12:24:53 WARN DAGScheduler: Broadcasting large task binary with size 1098.8 KiB\n",
      "24/05/11 12:24:53 WARN DAGScheduler: Broadcasting large task binary with size 1098.8 KiB\n",
      "24/05/11 12:24:53 WARN DAGScheduler: Broadcasting large task binary with size 1098.8 KiB\n",
      "24/05/11 12:24:53 WARN DAGScheduler: Broadcasting large task binary with size 1098.8 KiB\n",
      "24/05/11 12:24:53 WARN DAGScheduler: Broadcasting large task binary with size 1098.8 KiB\n",
      "24/05/11 12:24:54 WARN DAGScheduler: Broadcasting large task binary with size 1098.8 KiB\n",
      "24/05/11 12:24:54 WARN DAGScheduler: Broadcasting large task binary with size 1098.8 KiB\n",
      "24/05/11 12:24:54 WARN DAGScheduler: Broadcasting large task binary with size 1098.8 KiB\n",
      "24/05/11 12:24:54 WARN DAGScheduler: Broadcasting large task binary with size 1098.8 KiB\n",
      "24/05/11 12:24:54 WARN DAGScheduler: Broadcasting large task binary with size 1098.8 KiB\n",
      "24/05/11 12:24:55 WARN DAGScheduler: Broadcasting large task binary with size 1098.8 KiB\n",
      "24/05/11 12:24:55 WARN DAGScheduler: Broadcasting large task binary with size 1098.8 KiB\n",
      "24/05/11 12:24:55 WARN DAGScheduler: Broadcasting large task binary with size 1098.8 KiB\n",
      "24/05/11 12:24:55 WARN DAGScheduler: Broadcasting large task binary with size 1098.8 KiB\n",
      "24/05/11 12:24:55 WARN DAGScheduler: Broadcasting large task binary with size 1098.8 KiB\n",
      "24/05/11 12:24:56 WARN DAGScheduler: Broadcasting large task binary with size 1098.8 KiB\n",
      "24/05/11 12:24:56 WARN DAGScheduler: Broadcasting large task binary with size 1098.8 KiB\n",
      "24/05/11 12:24:56 WARN DAGScheduler: Broadcasting large task binary with size 1098.8 KiB\n",
      "24/05/11 12:24:56 WARN DAGScheduler: Broadcasting large task binary with size 1098.8 KiB\n",
      "24/05/11 12:24:56 WARN DAGScheduler: Broadcasting large task binary with size 1098.8 KiB\n",
      "24/05/11 12:24:57 WARN DAGScheduler: Broadcasting large task binary with size 1098.1 KiB\n",
      "24/05/11 12:24:57 WARN DAGScheduler: Broadcasting large task binary with size 1098.8 KiB\n",
      "24/05/11 12:24:57 WARN DAGScheduler: Broadcasting large task binary with size 1098.8 KiB\n",
      "24/05/11 12:24:57 WARN DAGScheduler: Broadcasting large task binary with size 1098.8 KiB\n",
      "24/05/11 12:24:57 WARN DAGScheduler: Broadcasting large task binary with size 1098.8 KiB\n",
      "24/05/11 12:24:58 WARN DAGScheduler: Broadcasting large task binary with size 1098.8 KiB\n",
      "24/05/11 12:24:58 WARN DAGScheduler: Broadcasting large task binary with size 1098.8 KiB\n",
      "24/05/11 12:24:58 WARN DAGScheduler: Broadcasting large task binary with size 1098.8 KiB\n",
      "24/05/11 12:24:58 WARN DAGScheduler: Broadcasting large task binary with size 1098.8 KiB\n",
      "24/05/11 12:24:58 WARN DAGScheduler: Broadcasting large task binary with size 1098.8 KiB\n",
      "24/05/11 12:24:59 WARN DAGScheduler: Broadcasting large task binary with size 1098.8 KiB\n",
      "24/05/11 12:24:59 WARN DAGScheduler: Broadcasting large task binary with size 1098.8 KiB\n",
      "24/05/11 12:24:59 WARN DAGScheduler: Broadcasting large task binary with size 1098.8 KiB\n",
      "24/05/11 12:24:59 WARN DAGScheduler: Broadcasting large task binary with size 1098.8 KiB\n",
      "24/05/11 12:24:59 WARN DAGScheduler: Broadcasting large task binary with size 1098.8 KiB\n",
      "24/05/11 12:24:59 WARN DAGScheduler: Broadcasting large task binary with size 1098.8 KiB\n",
      "24/05/11 12:25:00 WARN DAGScheduler: Broadcasting large task binary with size 1098.8 KiB\n",
      "24/05/11 12:25:00 WARN DAGScheduler: Broadcasting large task binary with size 1098.8 KiB\n",
      "24/05/11 12:25:00 WARN DAGScheduler: Broadcasting large task binary with size 1098.8 KiB\n",
      "24/05/11 12:25:00 WARN DAGScheduler: Broadcasting large task binary with size 1098.8 KiB\n",
      "24/05/11 12:25:00 WARN DAGScheduler: Broadcasting large task binary with size 1098.8 KiB\n",
      "24/05/11 12:25:00 WARN DAGScheduler: Broadcasting large task binary with size 1098.8 KiB\n",
      "24/05/11 12:25:01 WARN DAGScheduler: Broadcasting large task binary with size 1098.8 KiB\n",
      "24/05/11 12:25:01 WARN DAGScheduler: Broadcasting large task binary with size 1098.8 KiB\n",
      "24/05/11 12:25:02 WARN DAGScheduler: Broadcasting large task binary with size 2.2 MiB\n",
      "/home/ayoubbakkali/.local/lib/python3.12/site-packages/pyspark/sql/context.py:158: FutureWarning: Deprecated in 3.0.0. Use SparkSession.builder.getOrCreate() instead.\n",
      "  warnings.warn(\n",
      "24/05/11 12:25:08 WARN DAGScheduler: Broadcasting large task binary with size 2.2 MiB\n",
      "                                                                                \r"
     ]
    },
    {
     "ename": "AttributeError",
     "evalue": "'MulticlassMetrics' object has no attribute 'roc'",
     "output_type": "error",
     "traceback": [
      "\u001b[0;31m---------------------------------------------------------------------------\u001b[0m",
      "\u001b[0;31mAttributeError\u001b[0m                            Traceback (most recent call last)",
      "Cell \u001b[0;32mIn[14], line 39\u001b[0m\n\u001b[1;32m     36\u001b[0m metrics \u001b[38;5;241m=\u001b[39m MulticlassMetrics(prediction_and_label)\n\u001b[1;32m     38\u001b[0m \u001b[38;5;66;03m# Get ROC curve\u001b[39;00m\n\u001b[0;32m---> 39\u001b[0m roc \u001b[38;5;241m=\u001b[39m \u001b[43mmetrics\u001b[49m\u001b[38;5;241;43m.\u001b[39;49m\u001b[43mroc\u001b[49m()\n\u001b[1;32m     41\u001b[0m \u001b[38;5;66;03m# Plot ROC curve\u001b[39;00m\n\u001b[1;32m     42\u001b[0m roc_df \u001b[38;5;241m=\u001b[39m spark\u001b[38;5;241m.\u001b[39mcreateDataFrame(roc, [\u001b[38;5;124m\"\u001b[39m\u001b[38;5;124mFPR\u001b[39m\u001b[38;5;124m\"\u001b[39m, \u001b[38;5;124m\"\u001b[39m\u001b[38;5;124mTPR\u001b[39m\u001b[38;5;124m\"\u001b[39m])\n",
      "\u001b[0;31mAttributeError\u001b[0m: 'MulticlassMetrics' object has no attribute 'roc'"
     ]
    }
   ],
   "source": [
    "from pyspark.sql import SparkSession\n",
    "from pyspark.ml import Pipeline\n",
    "from pyspark.ml.classification import OneVsRest, LinearSVC\n",
    "from pyspark.ml.evaluation import MulticlassClassificationEvaluator\n",
    "from pyspark.ml.feature import Tokenizer, StopWordsRemover, CountVectorizer, IDF\n",
    "from pyspark.mllib.evaluation import MulticlassMetrics\n",
    "\n",
    "# Assuming you have defined tokenizer, stop_words_remover, cv, idf, train_data, and test_data earlier in your code\n",
    "\n",
    "# Create a LinearSVC object\n",
    "svm = LinearSVC(maxIter=10, regParam=0.1, featuresCol=\"features\", labelCol=\"label\")\n",
    "\n",
    "# Create an OneVsRest object\n",
    "ovr = OneVsRest(classifier=svm)\n",
    "\n",
    "# Create a Pipeline for data preprocessing and classification\n",
    "data_preprocessing_pipeline = Pipeline(stages=[tokenizer, stop_words_remover, cv, idf, ovr])\n",
    "\n",
    "# Fit the pipeline to the training data\n",
    "pipeline_model = data_preprocessing_pipeline.fit(train_data)\n",
    "\n",
    "# Make predictions on the test data\n",
    "predictions = pipeline_model.transform(test_data)\n",
    "\n",
    "# Initialize a SparkSession\n",
    "spark = SparkSession.builder.appName(\"ROC_curve\").getOrCreate()\n",
    "\n",
    "# Evaluate the model using MulticlassClassificationEvaluator\n",
    "evaluator = MulticlassClassificationEvaluator(labelCol=\"label\", predictionCol=\"prediction\", metricName=\"accuracy\")\n",
    "accuracy = evaluator.evaluate(predictions)\n",
    "\n",
    "# Convert predictions and labels to RDD\n",
    "prediction_and_label = predictions.select(\"prediction\", \"label\").rdd.map(lambda row: (float(row[\"prediction\"]), float(row[\"label\"])))\n",
    "\n",
    "# Get metrics for multiclass classification\n",
    "metrics = MulticlassMetrics(prediction_and_label)\n",
    "\n",
    "# Get ROC curve\n",
    "roc = metrics.roc()\n",
    "\n",
    "# Plot ROC curve\n",
    "roc_df = spark.createDataFrame(roc, [\"FPR\", \"TPR\"])\n",
    "roc_df.show()\n",
    "\n",
    "# You can use a plotting library like matplotlib to visualize the ROC curve\n",
    "import matplotlib.pyplot as plt\n",
    "\n",
    "plt.figure(figsize=(8, 6))\n",
    "plt.plot(roc_df.select(\"FPR\").collect(), roc_df.select(\"TPR\").collect(), label=\"ROC Curve\")\n",
    "plt.xlabel(\"False Positive Rate\")\n",
    "plt.ylabel(\"True Positive Rate\")\n",
    "plt.title(\"ROC Curve\")\n",
    "plt.legend()\n",
    "plt.show()\n"
   ]
  },
  {
   "cell_type": "code",
   "execution_count": 42,
   "id": "c609d123-fed2-475a-8741-9f0c29b8bdc1",
   "metadata": {},
   "outputs": [],
   "source": [
    "\n",
    "a = pipeline_model.transform(test_data)"
   ]
  },
  {
   "cell_type": "code",
   "execution_count": 45,
   "id": "9713ac58-cbc8-4912-a070-9b20123fd7c3",
   "metadata": {},
   "outputs": [
    {
     "name": "stderr",
     "output_type": "stream",
     "text": [
      "24/05/09 22:06:07 WARN DAGScheduler: Broadcasting large task binary with size 2.2 MiB\n",
      "[Stage 176:>                                                        (0 + 1) / 1]\r"
     ]
    },
    {
     "name": "stdout",
     "output_type": "stream",
     "text": [
      "+--------------------+\n",
      "|       rawPrediction|\n",
      "+--------------------+\n",
      "|[-0.8582150101231...|\n",
      "|[-0.7789983981667...|\n",
      "|[0.72136592460470...|\n",
      "|[-0.9049090401708...|\n",
      "|[-1.5711702229821...|\n",
      "|[-1.1903670775705...|\n",
      "|[-0.7169869752199...|\n",
      "|[-1.3876947281138...|\n",
      "|[-1.2797648509277...|\n",
      "|[-1.9836388524386...|\n",
      "|[-1.5775210347265...|\n",
      "|[-1.6222531154213...|\n",
      "|[-1.1398413287592...|\n",
      "|[-2.3561179739890...|\n",
      "|[-1.2640578565771...|\n",
      "|[-2.3121655558559...|\n",
      "|[-0.9177198317846...|\n",
      "|[-1.1899152747580...|\n",
      "|[-0.7488317962122...|\n",
      "|[-1.4739553338714...|\n",
      "+--------------------+\n",
      "only showing top 20 rows\n",
      "\n"
     ]
    },
    {
     "name": "stderr",
     "output_type": "stream",
     "text": [
      "                                                                                \r"
     ]
    }
   ],
   "source": [
    "a.select(\"rawPrediction\").show()"
   ]
  },
  {
   "cell_type": "markdown",
   "id": "331eec75-825f-42a1-b33a-ba30e15e5585",
   "metadata": {},
   "source": [
    "# TEST"
   ]
  },
  {
   "cell_type": "code",
   "execution_count": 3,
   "id": "025052c5-39d1-4ead-a5d6-4d667d0a3d0c",
   "metadata": {},
   "outputs": [],
   "source": [
    "from pyspark.ml import PipelineModel\n",
    "from pyspark.ml.classification import OneVsRestModel\n",
    "from pyspark.sql import SparkSession\n",
    "from pyspark.sql.functions import udf\n",
    "from pyspark.sql.types import StringType\n",
    "from pyspark.ml import PipelineModel\n",
    "\n",
    "import re\n",
    "\n",
    "# Create a SparkSession\n",
    "spark = SparkSession.builder \\\n",
    "    .appName(\"pipeline_twitter4\") \\\n",
    "    .getOrCreate()\n",
    "\n",
    "# Model and pipeline PATH\n",
    "model_path = \"./model\"\n",
    "\n",
    "# Import pipeline \n",
    "pipeline = PipelineModel.load(model_path)\n",
    "input_string = \"Hey , i am gone murder you all\"\n",
    "pipeline_model = PipelineModel.load(\"preprocessing_pipeline1/\")# Create a DataFrame with a single column named \"Tweet_content\""
   ]
  },
  {
   "cell_type": "code",
   "execution_count": 4,
   "id": "40dae0ca-cb23-4749-8d07-16a5aa2573e2",
   "metadata": {},
   "outputs": [
    {
     "data": {
      "text/html": [
       "<div>\n",
       "<style scoped>\n",
       "    .dataframe tbody tr th:only-of-type {\n",
       "        vertical-align: middle;\n",
       "    }\n",
       "\n",
       "    .dataframe tbody tr th {\n",
       "        vertical-align: top;\n",
       "    }\n",
       "\n",
       "    .dataframe thead th {\n",
       "        text-align: right;\n",
       "    }\n",
       "</style>\n",
       "<table border=\"1\" class=\"dataframe\">\n",
       "  <thead>\n",
       "    <tr style=\"text-align: right;\">\n",
       "      <th></th>\n",
       "      <th>Tweet_content</th>\n",
       "    </tr>\n",
       "  </thead>\n",
       "  <tbody>\n",
       "    <tr>\n",
       "      <th>0</th>\n",
       "      <td>Hey , i am gone murder you all</td>\n",
       "    </tr>\n",
       "  </tbody>\n",
       "</table>\n",
       "</div>"
      ],
      "text/plain": [
       "                    Tweet_content\n",
       "0  Hey , i am gone murder you all"
      ]
     },
     "execution_count": 4,
     "metadata": {},
     "output_type": "execute_result"
    }
   ],
   "source": [
    "# Create a DataFrame with a single column named \"Tweet_content\"\n",
    "df = spark.createDataFrame([(input_string,)], [\"Tweet_content\"])\n",
    "df.toPandas()"
   ]
  },
  {
   "cell_type": "code",
   "execution_count": 5,
   "id": "62447917-284f-4c42-bb33-501b63bda323",
   "metadata": {},
   "outputs": [],
   "source": [
    "def clean_and_lowercase(text):\n",
    "    # Convert the text to lowercase\n",
    "    text_lower = text.lower()\n",
    "    # Remove special characters, punctuation, and unnecessary symbols\n",
    "    cleaned_text = re.sub(r'[^a-zA-Z\\s]', '', text_lower)\n",
    "    # Return the cleaned text\n",
    "    return cleaned_text\n",
    "\n",
    "# Define the UDF\n",
    "clean_and_lowercase_udf = udf(clean_and_lowercase, StringType())"
   ]
  },
  {
   "cell_type": "code",
   "execution_count": 6,
   "id": "b59f86ee-6af7-40fa-99ce-436747ba36c2",
   "metadata": {},
   "outputs": [],
   "source": [
    "df_cleaned = df.withColumn(\"cleaned_tweet\", clean_and_lowercase_udf(\"Tweet_content\"))"
   ]
  },
  {
   "cell_type": "code",
   "execution_count": 7,
   "id": "1f796a14-696c-4432-888d-4f98add68349",
   "metadata": {},
   "outputs": [
    {
     "name": "stderr",
     "output_type": "stream",
     "text": [
      "                                                                                \r"
     ]
    },
    {
     "data": {
      "text/html": [
       "<div>\n",
       "<style scoped>\n",
       "    .dataframe tbody tr th:only-of-type {\n",
       "        vertical-align: middle;\n",
       "    }\n",
       "\n",
       "    .dataframe tbody tr th {\n",
       "        vertical-align: top;\n",
       "    }\n",
       "\n",
       "    .dataframe thead th {\n",
       "        text-align: right;\n",
       "    }\n",
       "</style>\n",
       "<table border=\"1\" class=\"dataframe\">\n",
       "  <thead>\n",
       "    <tr style=\"text-align: right;\">\n",
       "      <th></th>\n",
       "      <th>Tweet_content</th>\n",
       "      <th>cleaned_tweet</th>\n",
       "    </tr>\n",
       "  </thead>\n",
       "  <tbody>\n",
       "    <tr>\n",
       "      <th>0</th>\n",
       "      <td>Hey , i am gone murder you all</td>\n",
       "      <td>hey  i am gone murder you all</td>\n",
       "    </tr>\n",
       "  </tbody>\n",
       "</table>\n",
       "</div>"
      ],
      "text/plain": [
       "                    Tweet_content                  cleaned_tweet\n",
       "0  Hey , i am gone murder you all  hey  i am gone murder you all"
      ]
     },
     "execution_count": 7,
     "metadata": {},
     "output_type": "execute_result"
    }
   ],
   "source": [
    "df_cleaned.toPandas()"
   ]
  },
  {
   "cell_type": "code",
   "execution_count": 8,
   "id": "39a56c54-f488-4594-8f59-460d07fbec8e",
   "metadata": {},
   "outputs": [],
   "source": [
    "out_pipeline = pipeline.transform(df_cleaned)"
   ]
  },
  {
   "cell_type": "code",
   "execution_count": 11,
   "id": "3878b7cf-24cc-4151-8459-96e751ba18bf",
   "metadata": {},
   "outputs": [
    {
     "name": "stderr",
     "output_type": "stream",
     "text": [
      "24/05/07 15:12:15 WARN DAGScheduler: Broadcasting large task binary with size 2.2 MiB\n",
      "/usr/lib/python3/dist-packages/scipy/__init__.py:146: UserWarning: A NumPy version >=1.17.3 and <1.25.0 is required for this version of SciPy (detected version 1.26.4\n",
      "  warnings.warn(f\"A NumPy version >={np_minversion} and <{np_maxversion}\"\n",
      "/usr/lib/python3/dist-packages/scipy/__init__.py:146: UserWarning: A NumPy version >=1.17.3 and <1.25.0 is required for this version of SciPy (detected version 1.26.4\n",
      "  warnings.warn(f\"A NumPy version >={np_minversion} and <{np_maxversion}\"\n",
      "/usr/lib/python3/dist-packages/scipy/__init__.py:146: UserWarning: A NumPy version >=1.17.3 and <1.25.0 is required for this version of SciPy (detected version 1.26.4\n",
      "  warnings.warn(f\"A NumPy version >={np_minversion} and <{np_maxversion}\"\n",
      "/usr/lib/python3/dist-packages/scipy/__init__.py:146: UserWarning: A NumPy version >=1.17.3 and <1.25.0 is required for this version of SciPy (detected version 1.26.4\n",
      "  warnings.warn(f\"A NumPy version >={np_minversion} and <{np_maxversion}\"\n",
      "/usr/lib/python3/dist-packages/scipy/__init__.py:146: UserWarning: A NumPy version >=1.17.3 and <1.25.0 is required for this version of SciPy (detected version 1.26.4\n",
      "  warnings.warn(f\"A NumPy version >={np_minversion} and <{np_maxversion}\"\n",
      "/usr/lib/python3/dist-packages/scipy/__init__.py:146: UserWarning: A NumPy version >=1.17.3 and <1.25.0 is required for this version of SciPy (detected version 1.26.4\n",
      "  warnings.warn(f\"A NumPy version >={np_minversion} and <{np_maxversion}\"\n",
      "/usr/lib/python3/dist-packages/scipy/__init__.py:146: UserWarning: A NumPy version >=1.17.3 and <1.25.0 is required for this version of SciPy (detected version 1.26.4\n",
      "  warnings.warn(f\"A NumPy version >={np_minversion} and <{np_maxversion}\"\n",
      "/usr/lib/python3/dist-packages/scipy/__init__.py:146: UserWarning: A NumPy version >=1.17.3 and <1.25.0 is required for this version of SciPy (detected version 1.26.4\n",
      "  warnings.warn(f\"A NumPy version >={np_minversion} and <{np_maxversion}\"\n",
      "/usr/lib/python3/dist-packages/scipy/__init__.py:146: UserWarning: A NumPy version >=1.17.3 and <1.25.0 is required for this version of SciPy (detected version 1.26.4\n",
      "  warnings.warn(f\"A NumPy version >={np_minversion} and <{np_maxversion}\"\n",
      "/usr/lib/python3/dist-packages/scipy/__init__.py:146: UserWarning: A NumPy version >=1.17.3 and <1.25.0 is required for this version of SciPy (detected version 1.26.4\n",
      "  warnings.warn(f\"A NumPy version >={np_minversion} and <{np_maxversion}\"\n",
      "/usr/lib/python3/dist-packages/scipy/__init__.py:146: UserWarning: A NumPy version >=1.17.3 and <1.25.0 is required for this version of SciPy (detected version 1.26.4\n",
      "  warnings.warn(f\"A NumPy version >={np_minversion} and <{np_maxversion}\"\n",
      "                                                                                \r"
     ]
    },
    {
     "data": {
      "text/html": [
       "<div>\n",
       "<style scoped>\n",
       "    .dataframe tbody tr th:only-of-type {\n",
       "        vertical-align: middle;\n",
       "    }\n",
       "\n",
       "    .dataframe tbody tr th {\n",
       "        vertical-align: top;\n",
       "    }\n",
       "\n",
       "    .dataframe thead th {\n",
       "        text-align: right;\n",
       "    }\n",
       "</style>\n",
       "<table border=\"1\" class=\"dataframe\">\n",
       "  <thead>\n",
       "    <tr style=\"text-align: right;\">\n",
       "      <th></th>\n",
       "      <th>Tweet_content</th>\n",
       "      <th>cleaned_tweet</th>\n",
       "      <th>tokens</th>\n",
       "      <th>filtered_tweet</th>\n",
       "      <th>raw_features</th>\n",
       "      <th>features</th>\n",
       "      <th>rawPrediction</th>\n",
       "      <th>prediction</th>\n",
       "    </tr>\n",
       "  </thead>\n",
       "  <tbody>\n",
       "    <tr>\n",
       "      <th>0</th>\n",
       "      <td>Hey , i am gone murder you all</td>\n",
       "      <td>hey  i am gone murder you all</td>\n",
       "      <td>[hey, , i, am, gone, murder, you, all]</td>\n",
       "      <td>[hey, , gone, murder]</td>\n",
       "      <td>(1.0, 0.0, 0.0, 0.0, 0.0, 0.0, 0.0, 0.0, 0.0, ...</td>\n",
       "      <td>(0.7674838227386219, 0.0, 0.0, 0.0, 0.0, 0.0, ...</td>\n",
       "      <td>[-0.3844291148589706, -0.5572593847430178, -1....</td>\n",
       "      <td>0.0</td>\n",
       "    </tr>\n",
       "  </tbody>\n",
       "</table>\n",
       "</div>"
      ],
      "text/plain": [
       "                    Tweet_content                  cleaned_tweet  \\\n",
       "0  Hey , i am gone murder you all  hey  i am gone murder you all   \n",
       "\n",
       "                                   tokens         filtered_tweet  \\\n",
       "0  [hey, , i, am, gone, murder, you, all]  [hey, , gone, murder]   \n",
       "\n",
       "                                        raw_features  \\\n",
       "0  (1.0, 0.0, 0.0, 0.0, 0.0, 0.0, 0.0, 0.0, 0.0, ...   \n",
       "\n",
       "                                            features  \\\n",
       "0  (0.7674838227386219, 0.0, 0.0, 0.0, 0.0, 0.0, ...   \n",
       "\n",
       "                                       rawPrediction  prediction  \n",
       "0  [-0.3844291148589706, -0.5572593847430178, -1....         0.0  "
      ]
     },
     "execution_count": 11,
     "metadata": {},
     "output_type": "execute_result"
    }
   ],
   "source": [
    "out_pipeline.toPandas()"
   ]
  },
  {
   "cell_type": "code",
   "execution_count": 12,
   "id": "41bd13fa-d208-40f4-9adf-0136a940f8a4",
   "metadata": {},
   "outputs": [
    {
     "ename": "IllegalArgumentException",
     "evalue": "label does not exist. Available: Tweet_content, cleaned_tweet, tokens, filtered_tweet, raw_features, features, rawPrediction, prediction",
     "output_type": "error",
     "traceback": [
      "\u001b[0;31m---------------------------------------------------------------------------\u001b[0m",
      "\u001b[0;31mIllegalArgumentException\u001b[0m                  Traceback (most recent call last)",
      "Cell \u001b[0;32mIn[12], line 6\u001b[0m\n\u001b[1;32m      1\u001b[0m \u001b[38;5;28;01mfrom\u001b[39;00m \u001b[38;5;21;01mpyspark\u001b[39;00m\u001b[38;5;21;01m.\u001b[39;00m\u001b[38;5;21;01mml\u001b[39;00m\u001b[38;5;21;01m.\u001b[39;00m\u001b[38;5;21;01mevaluation\u001b[39;00m \u001b[38;5;28;01mimport\u001b[39;00m MulticlassClassificationEvaluator\n\u001b[1;32m      4\u001b[0m evaluator \u001b[38;5;241m=\u001b[39m MulticlassClassificationEvaluator(predictionCol\u001b[38;5;241m=\u001b[39m\u001b[38;5;124m\"\u001b[39m\u001b[38;5;124mprediction\u001b[39m\u001b[38;5;124m\"\u001b[39m, metricName\u001b[38;5;241m=\u001b[39m\u001b[38;5;124m\"\u001b[39m\u001b[38;5;124maccuracy\u001b[39m\u001b[38;5;124m\"\u001b[39m)\n\u001b[0;32m----> 6\u001b[0m accuracy \u001b[38;5;241m=\u001b[39m \u001b[43mevaluator\u001b[49m\u001b[38;5;241;43m.\u001b[39;49m\u001b[43mevaluate\u001b[49m\u001b[43m(\u001b[49m\u001b[43mout_pipeline\u001b[49m\u001b[43m)\u001b[49m\n\u001b[1;32m      7\u001b[0m \u001b[38;5;28mprint\u001b[39m(\u001b[38;5;124m\"\u001b[39m\u001b[38;5;124mAccuracy:\u001b[39m\u001b[38;5;124m\"\u001b[39m, accuracy)\n",
      "File \u001b[0;32m~/.local/lib/python3.10/site-packages/pyspark/ml/evaluation.py:111\u001b[0m, in \u001b[0;36mEvaluator.evaluate\u001b[0;34m(self, dataset, params)\u001b[0m\n\u001b[1;32m    109\u001b[0m         \u001b[38;5;28;01mreturn\u001b[39;00m \u001b[38;5;28mself\u001b[39m\u001b[38;5;241m.\u001b[39mcopy(params)\u001b[38;5;241m.\u001b[39m_evaluate(dataset)\n\u001b[1;32m    110\u001b[0m     \u001b[38;5;28;01melse\u001b[39;00m:\n\u001b[0;32m--> 111\u001b[0m         \u001b[38;5;28;01mreturn\u001b[39;00m \u001b[38;5;28;43mself\u001b[39;49m\u001b[38;5;241;43m.\u001b[39;49m\u001b[43m_evaluate\u001b[49m\u001b[43m(\u001b[49m\u001b[43mdataset\u001b[49m\u001b[43m)\u001b[49m\n\u001b[1;32m    112\u001b[0m \u001b[38;5;28;01melse\u001b[39;00m:\n\u001b[1;32m    113\u001b[0m     \u001b[38;5;28;01mraise\u001b[39;00m \u001b[38;5;167;01mTypeError\u001b[39;00m(\u001b[38;5;124m\"\u001b[39m\u001b[38;5;124mParams must be a param map but got \u001b[39m\u001b[38;5;132;01m%s\u001b[39;00m\u001b[38;5;124m.\u001b[39m\u001b[38;5;124m\"\u001b[39m \u001b[38;5;241m%\u001b[39m \u001b[38;5;28mtype\u001b[39m(params))\n",
      "File \u001b[0;32m~/.local/lib/python3.10/site-packages/pyspark/ml/evaluation.py:148\u001b[0m, in \u001b[0;36mJavaEvaluator._evaluate\u001b[0;34m(self, dataset)\u001b[0m\n\u001b[1;32m    146\u001b[0m \u001b[38;5;28mself\u001b[39m\u001b[38;5;241m.\u001b[39m_transfer_params_to_java()\n\u001b[1;32m    147\u001b[0m \u001b[38;5;28;01massert\u001b[39;00m \u001b[38;5;28mself\u001b[39m\u001b[38;5;241m.\u001b[39m_java_obj \u001b[38;5;129;01mis\u001b[39;00m \u001b[38;5;129;01mnot\u001b[39;00m \u001b[38;5;28;01mNone\u001b[39;00m\n\u001b[0;32m--> 148\u001b[0m \u001b[38;5;28;01mreturn\u001b[39;00m \u001b[38;5;28;43mself\u001b[39;49m\u001b[38;5;241;43m.\u001b[39;49m\u001b[43m_java_obj\u001b[49m\u001b[38;5;241;43m.\u001b[39;49m\u001b[43mevaluate\u001b[49m\u001b[43m(\u001b[49m\u001b[43mdataset\u001b[49m\u001b[38;5;241;43m.\u001b[39;49m\u001b[43m_jdf\u001b[49m\u001b[43m)\u001b[49m\n",
      "File \u001b[0;32m~/.local/lib/python3.10/site-packages/py4j/java_gateway.py:1322\u001b[0m, in \u001b[0;36mJavaMember.__call__\u001b[0;34m(self, *args)\u001b[0m\n\u001b[1;32m   1316\u001b[0m command \u001b[38;5;241m=\u001b[39m proto\u001b[38;5;241m.\u001b[39mCALL_COMMAND_NAME \u001b[38;5;241m+\u001b[39m\\\n\u001b[1;32m   1317\u001b[0m     \u001b[38;5;28mself\u001b[39m\u001b[38;5;241m.\u001b[39mcommand_header \u001b[38;5;241m+\u001b[39m\\\n\u001b[1;32m   1318\u001b[0m     args_command \u001b[38;5;241m+\u001b[39m\\\n\u001b[1;32m   1319\u001b[0m     proto\u001b[38;5;241m.\u001b[39mEND_COMMAND_PART\n\u001b[1;32m   1321\u001b[0m answer \u001b[38;5;241m=\u001b[39m \u001b[38;5;28mself\u001b[39m\u001b[38;5;241m.\u001b[39mgateway_client\u001b[38;5;241m.\u001b[39msend_command(command)\n\u001b[0;32m-> 1322\u001b[0m return_value \u001b[38;5;241m=\u001b[39m \u001b[43mget_return_value\u001b[49m\u001b[43m(\u001b[49m\n\u001b[1;32m   1323\u001b[0m \u001b[43m    \u001b[49m\u001b[43manswer\u001b[49m\u001b[43m,\u001b[49m\u001b[43m \u001b[49m\u001b[38;5;28;43mself\u001b[39;49m\u001b[38;5;241;43m.\u001b[39;49m\u001b[43mgateway_client\u001b[49m\u001b[43m,\u001b[49m\u001b[43m \u001b[49m\u001b[38;5;28;43mself\u001b[39;49m\u001b[38;5;241;43m.\u001b[39;49m\u001b[43mtarget_id\u001b[49m\u001b[43m,\u001b[49m\u001b[43m \u001b[49m\u001b[38;5;28;43mself\u001b[39;49m\u001b[38;5;241;43m.\u001b[39;49m\u001b[43mname\u001b[49m\u001b[43m)\u001b[49m\n\u001b[1;32m   1325\u001b[0m \u001b[38;5;28;01mfor\u001b[39;00m temp_arg \u001b[38;5;129;01min\u001b[39;00m temp_args:\n\u001b[1;32m   1326\u001b[0m     \u001b[38;5;28;01mif\u001b[39;00m \u001b[38;5;28mhasattr\u001b[39m(temp_arg, \u001b[38;5;124m\"\u001b[39m\u001b[38;5;124m_detach\u001b[39m\u001b[38;5;124m\"\u001b[39m):\n",
      "File \u001b[0;32m~/.local/lib/python3.10/site-packages/pyspark/errors/exceptions/captured.py:185\u001b[0m, in \u001b[0;36mcapture_sql_exception.<locals>.deco\u001b[0;34m(*a, **kw)\u001b[0m\n\u001b[1;32m    181\u001b[0m converted \u001b[38;5;241m=\u001b[39m convert_exception(e\u001b[38;5;241m.\u001b[39mjava_exception)\n\u001b[1;32m    182\u001b[0m \u001b[38;5;28;01mif\u001b[39;00m \u001b[38;5;129;01mnot\u001b[39;00m \u001b[38;5;28misinstance\u001b[39m(converted, UnknownException):\n\u001b[1;32m    183\u001b[0m     \u001b[38;5;66;03m# Hide where the exception came from that shows a non-Pythonic\u001b[39;00m\n\u001b[1;32m    184\u001b[0m     \u001b[38;5;66;03m# JVM exception message.\u001b[39;00m\n\u001b[0;32m--> 185\u001b[0m     \u001b[38;5;28;01mraise\u001b[39;00m converted \u001b[38;5;28;01mfrom\u001b[39;00m \u001b[38;5;28;01mNone\u001b[39;00m\n\u001b[1;32m    186\u001b[0m \u001b[38;5;28;01melse\u001b[39;00m:\n\u001b[1;32m    187\u001b[0m     \u001b[38;5;28;01mraise\u001b[39;00m\n",
      "\u001b[0;31mIllegalArgumentException\u001b[0m: label does not exist. Available: Tweet_content, cleaned_tweet, tokens, filtered_tweet, raw_features, features, rawPrediction, prediction"
     ]
    }
   ],
   "source": [
    "from pyspark.ml.evaluation import MulticlassClassificationEvaluator\n",
    "\n",
    "\n",
    "evaluator = MulticlassClassificationEvaluator(predictionCol=\"prediction\", metricName=\"accuracy\")\n",
    "\n",
    "accuracy = evaluator.evaluate(out_pipeline)\n",
    "print(\"Accuracy:\", accuracy)"
   ]
  },
  {
   "cell_type": "code",
   "execution_count": null,
   "id": "b56fa290-0de5-4838-840c-a064243a9d57",
   "metadata": {},
   "outputs": [],
   "source": []
  }
 ],
 "metadata": {
  "kernelspec": {
   "display_name": "Python 3 (ipykernel)",
   "language": "python",
   "name": "python3"
  },
  "language_info": {
   "codemirror_mode": {
    "name": "ipython",
    "version": 3
   },
   "file_extension": ".py",
   "mimetype": "text/x-python",
   "name": "python",
   "nbconvert_exporter": "python",
   "pygments_lexer": "ipython3",
   "version": "3.12.3"
  }
 },
 "nbformat": 4,
 "nbformat_minor": 5
}
