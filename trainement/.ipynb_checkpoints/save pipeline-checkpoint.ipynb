{
 "cells": [
  {
   "cell_type": "code",
   "execution_count": 1,
   "id": "2d171ca7-ad7e-4d99-ad1b-0588cf6c2f08",
   "metadata": {},
   "outputs": [],
   "source": [
    "from pyspark.sql import SparkSession\n",
    "from pyspark.sql.functions import col"
   ]
  },
  {
   "cell_type": "code",
   "execution_count": 2,
   "id": "34fe9b3b-a50a-4c4f-b201-983727d5b59a",
   "metadata": {},
   "outputs": [
    {
     "name": "stderr",
     "output_type": "stream",
     "text": [
      "Setting default log level to \"WARN\".\n",
      "To adjust logging level use sc.setLogLevel(newLevel). For SparkR, use setLogLevel(newLevel).\n",
      "24/05/02 15:05:15 WARN NativeCodeLoader: Unable to load native-hadoop library for your platform... using builtin-java classes where applicable\n"
     ]
    }
   ],
   "source": [
    "# Create a SparkSession\n",
    "spark = SparkSession.builder \\\n",
    "    .appName(\"pipeline_twitter4\") \\\n",
    "    .getOrCreate()"
   ]
  },
  {
   "cell_type": "code",
   "execution_count": 3,
   "id": "92dd903e-d3ae-4b73-90d1-a649359f267d",
   "metadata": {},
   "outputs": [],
   "source": [
    "df_twitter = spark.read.csv(\"/home/ayoubbakkali/Desktop/Sentiment_Analysis/twitter_training.csv\", header=False, inferSchema=True)"
   ]
  },
  {
   "cell_type": "code",
   "execution_count": 4,
   "id": "60e618de-29ba-4b3f-be20-d836cc6033a6",
   "metadata": {},
   "outputs": [],
   "source": [
    "# Provide column names manually (replace with actual column names)\n",
    "columns = [\"Tweet ID\", \"Entity\", \"Sentiment\", \"Tweet content\"]\n",
    "df_twitter = df_twitter.toDF(*columns)"
   ]
  },
  {
   "cell_type": "code",
   "execution_count": 5,
   "id": "4ab8edd0-06ab-4dd9-b8d9-1413494f0269",
   "metadata": {},
   "outputs": [],
   "source": [
    "df_twitter = df_twitter.drop(\"Tweet ID\")"
   ]
  },
  {
   "cell_type": "code",
   "execution_count": 6,
   "id": "4a754f8c-3f4d-49b4-90d3-59c3a1705527",
   "metadata": {},
   "outputs": [],
   "source": [
    "df_twitter = df_twitter.dropna(subset=[\"Tweet content\"])"
   ]
  },
  {
   "cell_type": "code",
   "execution_count": 7,
   "id": "c042c343-8a9e-4b0b-8340-60edc41ae5de",
   "metadata": {},
   "outputs": [],
   "source": [
    "# Import required modules\n",
    "from pyspark.sql.functions import udf\n",
    "from pyspark.sql.types import StringType\n",
    "import re\n",
    "\n",
    "# Define the clean_and_lowercase function\n",
    "def clean_and_lowercase(text):\n",
    "    # Convert the text to lowercase\n",
    "    text_lower = text.lower()\n",
    "    # Remove special characters, punctuation, and unnecessary symbols\n",
    "    cleaned_text = re.sub(r'[^\\w\\s]', '', text_lower)\n",
    "    # Return the cleaned text\n",
    "    return cleaned_text\n",
    "\n",
    "# Define the UDF\n",
    "clean_and_lowercase_udf = udf(clean_and_lowercase, StringType())\n",
    "\n",
    "# Apply the UDF to the 'Tweet content' column\n",
    "df_twitter = df_twitter.withColumn(\"cleaned_tweet\", clean_and_lowercase_udf(\"Tweet content\"))"
   ]
  },
  {
   "cell_type": "code",
   "execution_count": 8,
   "id": "7a02979b-5994-4724-9a79-9e8e56ff9a9d",
   "metadata": {},
   "outputs": [
    {
     "data": {
      "text/plain": [
       "DataFrame[Entity: string, Sentiment: string, Tweet content: string, cleaned_tweet: string]"
      ]
     },
     "execution_count": 8,
     "metadata": {},
     "output_type": "execute_result"
    }
   ],
   "source": [
    "df_twitter"
   ]
  },
  {
   "cell_type": "code",
   "execution_count": 9,
   "id": "54872b2f-d031-475f-bbb7-916c5cf90a9a",
   "metadata": {},
   "outputs": [
    {
     "name": "stderr",
     "output_type": "stream",
     "text": [
      "/usr/lib/python3/dist-packages/scipy/__init__.py:146: UserWarning: A NumPy version >=1.17.3 and <1.25.0 is required for this version of SciPy (detected version 1.26.4\n",
      "  warnings.warn(f\"A NumPy version >={np_minversion} and <{np_maxversion}\"\n"
     ]
    }
   ],
   "source": [
    "# Création des étapes de prétraitement\n",
    "from pyspark.ml import Pipeline\n",
    "from pyspark.ml.feature import Tokenizer, StopWordsRemover, CountVectorizer, IDF, StringIndexer\n",
    "from pyspark.ml.classification import LinearSVC, OneVsRest\n",
    "from pyspark.ml.evaluation import MulticlassClassificationEvaluator\n",
    "indexer = StringIndexer(inputCol=\"Sentiment\", outputCol=\"label\")\n",
    "tokenizer = Tokenizer(inputCol=\"cleaned_tweet\", outputCol=\"tokens\")\n",
    "stop_words_remover = StopWordsRemover(inputCol=\"tokens\", outputCol=\"filtered_tweet\")\n",
    "cv = CountVectorizer(inputCol=\"filtered_tweet\", outputCol=\"raw_features\")\n",
    "idf = IDF(inputCol=\"raw_features\", outputCol=\"features\")"
   ]
  },
  {
   "cell_type": "code",
   "execution_count": 10,
   "id": "e38bfc38-209a-45a2-a97c-885b0c10a38f",
   "metadata": {},
   "outputs": [],
   "source": [
    "from pyspark.ml import Pipeline\n",
    "# Add indexer, lemmatization, and the rest of the pipeline stages\n",
    "data_preprocessing_pipeline = Pipeline(stages=[indexer, tokenizer, stop_words_remover, cv, idf])"
   ]
  },
  {
   "cell_type": "code",
   "execution_count": 11,
   "id": "f7b834ea-52f4-48ec-be99-d09257b3bc71",
   "metadata": {},
   "outputs": [
    {
     "name": "stderr",
     "output_type": "stream",
     "text": [
      "                                                                                \r"
     ]
    }
   ],
   "source": [
    "preprocessing_model = data_preprocessing_pipeline.fit(df_twitter)"
   ]
  },
  {
   "cell_type": "code",
   "execution_count": 12,
   "id": "5285717c-317f-4ac4-870b-2354ad2a5a9a",
   "metadata": {},
   "outputs": [],
   "source": [
    "df_transformed = preprocessing_model.transform(df_twitter)"
   ]
  },
  {
   "cell_type": "code",
   "execution_count": 13,
   "id": "466e7bfc-78a6-4ba5-82d2-8e2427f31061",
   "metadata": {},
   "outputs": [],
   "source": [
    "# Specify the path where you want to save the model\n",
    "model_path = \"preprocessing_pipeline1\"\n",
    "# Save the preprocessing model\n",
    "preprocessing_model.save(model_path)"
   ]
  },
  {
   "cell_type": "code",
   "execution_count": 14,
   "id": "b1b1417d-b23e-4df6-84a0-33a28afbfd51",
   "metadata": {},
   "outputs": [],
   "source": [
    "# Split the data into train and test sets\n",
    "train_data, test_data = df_transformed.randomSplit([0.8, 0.2], seed=42)"
   ]
  },
  {
   "cell_type": "code",
   "execution_count": 15,
   "id": "90d655a5-0974-43f4-b047-138fdd74ab04",
   "metadata": {},
   "outputs": [
    {
     "data": {
      "text/plain": [
       "DataFrame[Entity: string, Sentiment: string, Tweet content: string, cleaned_tweet: string, label: double, tokens: array<string>, filtered_tweet: array<string>, raw_features: vector, features: vector]"
      ]
     },
     "execution_count": 15,
     "metadata": {},
     "output_type": "execute_result"
    }
   ],
   "source": [
    "train_data"
   ]
  },
  {
   "cell_type": "code",
   "execution_count": 16,
   "id": "93489377-20b2-45fc-80b5-646ac95fad28",
   "metadata": {},
   "outputs": [
    {
     "name": "stderr",
     "output_type": "stream",
     "text": [
      "24/05/02 15:07:47 WARN DAGScheduler: Broadcasting large task binary with size 1216.1 KiB\n",
      "24/05/02 15:07:48 WARN DAGScheduler: Broadcasting large task binary with size 1216.8 KiB\n",
      "24/05/02 15:07:50 WARN DAGScheduler: Broadcasting large task binary with size 1251.5 KiB\n",
      "24/05/02 15:07:50 WARN InstanceBuilder: Failed to load implementation from:dev.ludovic.netlib.blas.VectorBLAS\n",
      "24/05/02 15:07:50 WARN DAGScheduler: Broadcasting large task binary with size 1252.2 KiB\n",
      "24/05/02 15:07:51 WARN DAGScheduler: Broadcasting large task binary with size 1252.2 KiB\n",
      "24/05/02 15:07:51 WARN DAGScheduler: Broadcasting large task binary with size 1252.2 KiB\n",
      "24/05/02 15:07:51 WARN DAGScheduler: Broadcasting large task binary with size 1252.2 KiB\n",
      "24/05/02 15:07:52 WARN DAGScheduler: Broadcasting large task binary with size 1252.2 KiB\n",
      "24/05/02 15:07:52 WARN DAGScheduler: Broadcasting large task binary with size 1252.2 KiB\n",
      "24/05/02 15:07:52 WARN DAGScheduler: Broadcasting large task binary with size 1252.2 KiB\n",
      "24/05/02 15:07:52 WARN DAGScheduler: Broadcasting large task binary with size 1252.2 KiB\n",
      "24/05/02 15:07:52 WARN DAGScheduler: Broadcasting large task binary with size 1252.2 KiB\n",
      "24/05/02 15:07:52 WARN DAGScheduler: Broadcasting large task binary with size 1252.2 KiB\n",
      "24/05/02 15:07:53 WARN DAGScheduler: Broadcasting large task binary with size 1252.2 KiB\n",
      "24/05/02 15:07:53 WARN DAGScheduler: Broadcasting large task binary with size 1252.2 KiB\n",
      "24/05/02 15:07:53 WARN DAGScheduler: Broadcasting large task binary with size 1252.2 KiB\n",
      "24/05/02 15:07:53 WARN DAGScheduler: Broadcasting large task binary with size 1252.2 KiB\n",
      "24/05/02 15:07:53 WARN DAGScheduler: Broadcasting large task binary with size 1252.2 KiB\n",
      "24/05/02 15:07:53 WARN DAGScheduler: Broadcasting large task binary with size 1252.2 KiB\n",
      "24/05/02 15:07:53 WARN DAGScheduler: Broadcasting large task binary with size 1252.2 KiB\n",
      "24/05/02 15:07:54 WARN DAGScheduler: Broadcasting large task binary with size 1252.2 KiB\n",
      "24/05/02 15:07:54 WARN DAGScheduler: Broadcasting large task binary with size 1252.2 KiB\n",
      "24/05/02 15:07:54 WARN DAGScheduler: Broadcasting large task binary with size 1252.2 KiB\n",
      "24/05/02 15:07:54 WARN DAGScheduler: Broadcasting large task binary with size 1252.2 KiB\n",
      "24/05/02 15:07:54 WARN DAGScheduler: Broadcasting large task binary with size 1252.2 KiB\n",
      "24/05/02 15:07:54 WARN DAGScheduler: Broadcasting large task binary with size 1252.2 KiB\n",
      "24/05/02 15:07:55 WARN DAGScheduler: Broadcasting large task binary with size 1251.5 KiB\n",
      "24/05/02 15:07:55 WARN DAGScheduler: Broadcasting large task binary with size 1252.2 KiB\n",
      "24/05/02 15:07:56 WARN DAGScheduler: Broadcasting large task binary with size 1252.2 KiB\n",
      "24/05/02 15:07:56 WARN DAGScheduler: Broadcasting large task binary with size 1252.2 KiB\n",
      "24/05/02 15:07:56 WARN DAGScheduler: Broadcasting large task binary with size 1252.2 KiB\n",
      "24/05/02 15:07:56 WARN DAGScheduler: Broadcasting large task binary with size 1252.2 KiB\n",
      "24/05/02 15:07:56 WARN DAGScheduler: Broadcasting large task binary with size 1252.2 KiB\n",
      "24/05/02 15:07:56 WARN DAGScheduler: Broadcasting large task binary with size 1252.2 KiB\n",
      "24/05/02 15:07:56 WARN DAGScheduler: Broadcasting large task binary with size 1252.2 KiB\n",
      "24/05/02 15:07:57 WARN DAGScheduler: Broadcasting large task binary with size 1252.2 KiB\n",
      "24/05/02 15:07:57 WARN DAGScheduler: Broadcasting large task binary with size 1252.2 KiB\n",
      "24/05/02 15:07:57 WARN DAGScheduler: Broadcasting large task binary with size 1252.2 KiB\n",
      "24/05/02 15:07:57 WARN DAGScheduler: Broadcasting large task binary with size 1252.2 KiB\n",
      "24/05/02 15:07:57 WARN DAGScheduler: Broadcasting large task binary with size 1252.2 KiB\n",
      "24/05/02 15:07:57 WARN DAGScheduler: Broadcasting large task binary with size 1252.2 KiB\n",
      "24/05/02 15:07:58 WARN DAGScheduler: Broadcasting large task binary with size 1252.2 KiB\n",
      "24/05/02 15:07:58 WARN DAGScheduler: Broadcasting large task binary with size 1252.2 KiB\n",
      "24/05/02 15:07:58 WARN DAGScheduler: Broadcasting large task binary with size 1252.2 KiB\n",
      "24/05/02 15:07:58 WARN DAGScheduler: Broadcasting large task binary with size 1252.2 KiB\n",
      "24/05/02 15:07:58 WARN DAGScheduler: Broadcasting large task binary with size 1252.2 KiB\n",
      "24/05/02 15:07:58 WARN DAGScheduler: Broadcasting large task binary with size 1252.2 KiB\n",
      "24/05/02 15:07:59 WARN DAGScheduler: Broadcasting large task binary with size 1252.2 KiB\n",
      "24/05/02 15:07:59 WARN DAGScheduler: Broadcasting large task binary with size 1252.2 KiB\n",
      "24/05/02 15:07:59 WARN DAGScheduler: Broadcasting large task binary with size 1252.2 KiB\n",
      "24/05/02 15:07:59 WARN DAGScheduler: Broadcasting large task binary with size 1251.5 KiB\n",
      "24/05/02 15:07:59 WARN DAGScheduler: Broadcasting large task binary with size 1252.2 KiB\n",
      "24/05/02 15:08:00 WARN DAGScheduler: Broadcasting large task binary with size 1252.2 KiB\n",
      "24/05/02 15:08:00 WARN DAGScheduler: Broadcasting large task binary with size 1252.2 KiB\n",
      "24/05/02 15:08:00 WARN DAGScheduler: Broadcasting large task binary with size 1252.2 KiB\n",
      "24/05/02 15:08:00 WARN DAGScheduler: Broadcasting large task binary with size 1252.2 KiB\n",
      "24/05/02 15:08:00 WARN DAGScheduler: Broadcasting large task binary with size 1252.2 KiB\n",
      "24/05/02 15:08:00 WARN DAGScheduler: Broadcasting large task binary with size 1252.2 KiB\n",
      "24/05/02 15:08:01 WARN DAGScheduler: Broadcasting large task binary with size 1252.2 KiB\n",
      "24/05/02 15:08:01 WARN DAGScheduler: Broadcasting large task binary with size 1252.2 KiB\n",
      "24/05/02 15:08:01 WARN DAGScheduler: Broadcasting large task binary with size 1252.2 KiB\n",
      "24/05/02 15:08:01 WARN DAGScheduler: Broadcasting large task binary with size 1252.2 KiB\n",
      "24/05/02 15:08:01 WARN DAGScheduler: Broadcasting large task binary with size 1252.2 KiB\n",
      "24/05/02 15:08:01 WARN DAGScheduler: Broadcasting large task binary with size 1252.2 KiB\n",
      "24/05/02 15:08:02 WARN DAGScheduler: Broadcasting large task binary with size 1252.2 KiB\n",
      "24/05/02 15:08:02 WARN DAGScheduler: Broadcasting large task binary with size 1252.2 KiB\n",
      "24/05/02 15:08:02 WARN DAGScheduler: Broadcasting large task binary with size 1252.2 KiB\n",
      "24/05/02 15:08:02 WARN DAGScheduler: Broadcasting large task binary with size 1252.2 KiB\n",
      "24/05/02 15:08:02 WARN DAGScheduler: Broadcasting large task binary with size 1252.2 KiB\n",
      "24/05/02 15:08:02 WARN DAGScheduler: Broadcasting large task binary with size 1252.2 KiB\n",
      "24/05/02 15:08:03 WARN DAGScheduler: Broadcasting large task binary with size 1252.2 KiB\n",
      "24/05/02 15:08:03 WARN DAGScheduler: Broadcasting large task binary with size 1252.2 KiB\n",
      "24/05/02 15:08:03 WARN DAGScheduler: Broadcasting large task binary with size 1252.2 KiB\n",
      "24/05/02 15:08:03 WARN DAGScheduler: Broadcasting large task binary with size 1252.2 KiB\n",
      "24/05/02 15:08:04 WARN DAGScheduler: Broadcasting large task binary with size 1251.5 KiB\n",
      "24/05/02 15:08:04 WARN DAGScheduler: Broadcasting large task binary with size 1252.2 KiB\n",
      "24/05/02 15:08:04 WARN DAGScheduler: Broadcasting large task binary with size 1252.2 KiB\n",
      "24/05/02 15:08:04 WARN DAGScheduler: Broadcasting large task binary with size 1252.2 KiB\n",
      "24/05/02 15:08:04 WARN DAGScheduler: Broadcasting large task binary with size 1252.2 KiB\n",
      "24/05/02 15:08:05 WARN DAGScheduler: Broadcasting large task binary with size 1252.2 KiB\n",
      "24/05/02 15:08:05 WARN DAGScheduler: Broadcasting large task binary with size 1252.2 KiB\n",
      "24/05/02 15:08:05 WARN DAGScheduler: Broadcasting large task binary with size 1252.2 KiB\n",
      "24/05/02 15:08:05 WARN DAGScheduler: Broadcasting large task binary with size 1252.2 KiB\n",
      "24/05/02 15:08:05 WARN DAGScheduler: Broadcasting large task binary with size 1252.2 KiB\n",
      "24/05/02 15:08:05 WARN DAGScheduler: Broadcasting large task binary with size 1252.2 KiB\n",
      "24/05/02 15:08:06 WARN DAGScheduler: Broadcasting large task binary with size 1252.2 KiB\n",
      "24/05/02 15:08:06 WARN DAGScheduler: Broadcasting large task binary with size 1252.2 KiB\n",
      "24/05/02 15:08:06 WARN DAGScheduler: Broadcasting large task binary with size 1252.2 KiB\n",
      "24/05/02 15:08:06 WARN DAGScheduler: Broadcasting large task binary with size 1252.2 KiB\n",
      "24/05/02 15:08:06 WARN DAGScheduler: Broadcasting large task binary with size 1252.2 KiB\n",
      "24/05/02 15:08:06 WARN DAGScheduler: Broadcasting large task binary with size 1252.2 KiB\n",
      "24/05/02 15:08:06 WARN DAGScheduler: Broadcasting large task binary with size 1252.2 KiB\n",
      "24/05/02 15:08:07 WARN DAGScheduler: Broadcasting large task binary with size 1252.2 KiB\n",
      "24/05/02 15:08:07 WARN DAGScheduler: Broadcasting large task binary with size 1252.2 KiB\n",
      "24/05/02 15:08:07 WARN DAGScheduler: Broadcasting large task binary with size 1252.2 KiB\n",
      "24/05/02 15:08:07 WARN DAGScheduler: Broadcasting large task binary with size 1252.2 KiB\n",
      "24/05/02 15:08:07 WARN DAGScheduler: Broadcasting large task binary with size 1252.2 KiB\n",
      "24/05/02 15:08:07 WARN DAGScheduler: Broadcasting large task binary with size 1252.2 KiB\n",
      "24/05/02 15:08:08 WARN DAGScheduler: Broadcasting large task binary with size 2.5 MiB\n",
      "/usr/lib/python3/dist-packages/scipy/__init__.py:146: UserWarning: A NumPy version >=1.17.3 and <1.25.0 is required for this version of SciPy (detected version 1.26.4\n",
      "  warnings.warn(f\"A NumPy version >={np_minversion} and <{np_maxversion}\"\n",
      "/usr/lib/python3/dist-packages/scipy/__init__.py:146: UserWarning: A NumPy version >=1.17.3 and <1.25.0 is required for this version of SciPy (detected version 1.26.4\n",
      "  warnings.warn(f\"A NumPy version >={np_minversion} and <{np_maxversion}\"\n",
      "/usr/lib/python3/dist-packages/scipy/__init__.py:146: UserWarning: A NumPy version >=1.17.3 and <1.25.0 is required for this version of SciPy (detected version 1.26.4\n",
      "  warnings.warn(f\"A NumPy version >={np_minversion} and <{np_maxversion}\"\n",
      "/usr/lib/python3/dist-packages/scipy/__init__.py:146: UserWarning: A NumPy version >=1.17.3 and <1.25.0 is required for this version of SciPy (detected version 1.26.4\n",
      "  warnings.warn(f\"A NumPy version >={np_minversion} and <{np_maxversion}\"\n",
      "/usr/lib/python3/dist-packages/scipy/__init__.py:146: UserWarning: A NumPy version >=1.17.3 and <1.25.0 is required for this version of SciPy (detected version 1.26.4\n",
      "  warnings.warn(f\"A NumPy version >={np_minversion} and <{np_maxversion}\"\n",
      "/usr/lib/python3/dist-packages/scipy/__init__.py:146: UserWarning: A NumPy version >=1.17.3 and <1.25.0 is required for this version of SciPy (detected version 1.26.4\n",
      "  warnings.warn(f\"A NumPy version >={np_minversion} and <{np_maxversion}\"\n",
      "/usr/lib/python3/dist-packages/scipy/__init__.py:146: UserWarning: A NumPy version >=1.17.3 and <1.25.0 is required for this version of SciPy (detected version 1.26.4\n",
      "  warnings.warn(f\"A NumPy version >={np_minversion} and <{np_maxversion}\"\n",
      "/usr/lib/python3/dist-packages/scipy/__init__.py:146: UserWarning: A NumPy version >=1.17.3 and <1.25.0 is required for this version of SciPy (detected version 1.26.4\n",
      "  warnings.warn(f\"A NumPy version >={np_minversion} and <{np_maxversion}\"\n",
      "/usr/lib/python3/dist-packages/scipy/__init__.py:146: UserWarning: A NumPy version >=1.17.3 and <1.25.0 is required for this version of SciPy (detected version 1.26.4\n",
      "  warnings.warn(f\"A NumPy version >={np_minversion} and <{np_maxversion}\"\n",
      "/usr/lib/python3/dist-packages/scipy/__init__.py:146: UserWarning: A NumPy version >=1.17.3 and <1.25.0 is required for this version of SciPy (detected version 1.26.4\n",
      "  warnings.warn(f\"A NumPy version >={np_minversion} and <{np_maxversion}\"\n",
      "/usr/lib/python3/dist-packages/scipy/__init__.py:146: UserWarning: A NumPy version >=1.17.3 and <1.25.0 is required for this version of SciPy (detected version 1.26.4\n",
      "  warnings.warn(f\"A NumPy version >={np_minversion} and <{np_maxversion}\"\n",
      "/usr/lib/python3/dist-packages/scipy/__init__.py:146: UserWarning: A NumPy version >=1.17.3 and <1.25.0 is required for this version of SciPy (detected version 1.26.4\n",
      "  warnings.warn(f\"A NumPy version >={np_minversion} and <{np_maxversion}\"\n"
     ]
    },
    {
     "name": "stdout",
     "output_type": "stream",
     "text": [
      "Accuracy SVM: 0.8504717626145221\n"
     ]
    },
    {
     "name": "stderr",
     "output_type": "stream",
     "text": [
      "                                                                                \r"
     ]
    }
   ],
   "source": [
    "from pyspark.ml.classification import OneVsRest\n",
    "from pyspark.ml.classification import LinearSVC, OneVsRest\n",
    "from pyspark.ml.evaluation import MulticlassClassificationEvaluator\n",
    "\n",
    "# Create a LinearSVC object\n",
    "svm = LinearSVC(maxIter=10, regParam=0.1, featuresCol=\"features\", labelCol=\"label\")\n",
    "\n",
    "# Create an OneVsRest object\n",
    "ovr = OneVsRest(classifier=svm)\n",
    "\n",
    "# Train the OneVsRest model\n",
    "ovr_model = ovr.fit(train_data)\n",
    "\n",
    "# Make predictions on the test data\n",
    "predictions = ovr_model.transform(test_data)\n",
    "\n",
    "# Evaluate the model\n",
    "evaluator = MulticlassClassificationEvaluator(labelCol=\"label\", predictionCol=\"prediction\", metricName=\"accuracy\")\n",
    "accuracy = evaluator.evaluate(predictions)\n",
    "print(\"Accuracy SVM:\", accuracy)"
   ]
  },
  {
   "cell_type": "code",
   "execution_count": null,
   "id": "88a8ccbf-6550-4ad1-903a-a7929736407c",
   "metadata": {},
   "outputs": [],
   "source": []
  }
 ],
 "metadata": {
  "kernelspec": {
   "display_name": "Python 3 (ipykernel)",
   "language": "python",
   "name": "python3"
  },
  "language_info": {
   "codemirror_mode": {
    "name": "ipython",
    "version": 3
   },
   "file_extension": ".py",
   "mimetype": "text/x-python",
   "name": "python",
   "nbconvert_exporter": "python",
   "pygments_lexer": "ipython3",
   "version": "3.10.12"
  }
 },
 "nbformat": 4,
 "nbformat_minor": 5
}
