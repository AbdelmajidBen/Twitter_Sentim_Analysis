{
 "cells": [
  {
   "cell_type": "code",
   "execution_count": 1,
   "id": "5f7802a1-d7f3-4332-ab3a-282c0d8ea73a",
   "metadata": {},
   "outputs": [],
   "source": [
    "import pandas as pd\n",
    "from pymongo import MongoClient\n",
    "\n",
    "# MongoDB connection settings\n",
    "client = MongoClient('mongodb://localhost:27017/')  # Update connection string as needed\n",
    "db = client['tweets']  # Database name\n",
    "\n",
    "def import_csv_to_mongodb(csv_file, collection_name):\n",
    "    # Read CSV file into a pandas DataFrame\n",
    "    df = pd.read_csv(csv_file, header=None, names=['ID', 'company', 'Sentiment', 'tweet'])\n",
    "\n",
    "    # Convert DataFrame to list of dictionaries (each row becomes a dictionary)\n",
    "    records = df.to_dict(orient='records')\n",
    "\n",
    "    # Get the MongoDB collection\n",
    "    collection = db[collection_name]\n",
    "\n",
    "    # Insert records into MongoDB\n",
    "    collection.insert_many(records)\n",
    "\n",
    "if __name__ == \"__main__\":\n",
    "    csv_file_path = 'twitter_training.csv'  # Update with your CSV file path\n",
    "    collection_name = 'tweets'  # MongoDB collection name\n",
    "\n",
    "    import_csv_to_mongodb(csv_file_path, collection_name)\n"
   ]
  },
  {
   "cell_type": "code",
   "execution_count": null,
   "id": "eb855524-0efe-4dd4-81af-f655307cb620",
   "metadata": {},
   "outputs": [],
   "source": []
  }
 ],
 "metadata": {
  "kernelspec": {
   "display_name": "Python 3 (ipykernel)",
   "language": "python",
   "name": "python3"
  },
  "language_info": {
   "codemirror_mode": {
    "name": "ipython",
    "version": 3
   },
   "file_extension": ".py",
   "mimetype": "text/x-python",
   "name": "python",
   "nbconvert_exporter": "python",
   "pygments_lexer": "ipython3",
   "version": "3.11.7"
  }
 },
 "nbformat": 4,
 "nbformat_minor": 5
}
